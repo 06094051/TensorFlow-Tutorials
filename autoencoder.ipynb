{
 "cells": [
  {
   "cell_type": "code",
   "execution_count": null,
   "metadata": {
    "collapsed": false
   },
   "outputs": [],
   "source": [
    "import tensorflow as tf\n",
    "import input_data\n",
    "import numpy as np\n",
    "from tqdm import tqdm\n",
    "import matplotlib.gridspec as gridspec\n",
    "import matplotlib.pyplot as plt\n",
    "%matplotlib inline"
   ]
  },
  {
   "cell_type": "code",
   "execution_count": null,
   "metadata": {
    "collapsed": false
   },
   "outputs": [],
   "source": [
    "mnist = input_data.read_data_sets(\"MNIST_data/\", one_hot=True)\n",
    "trX, trY, teX, teY = mnist.train.images, mnist.train.labels, mnist.test.images, mnist.test.labels"
   ]
  },
  {
   "cell_type": "code",
   "execution_count": null,
   "metadata": {
    "collapsed": true
   },
   "outputs": [],
   "source": [
    "## Visualizing reconstructions\n",
    "def vis(images, save_name):\n",
    "  dim = images.shape[0]\n",
    "  n_image_rows = int(np.ceil(np.sqrt(dim)))\n",
    "  n_image_cols = int(np.ceil(dim * 1.0/n_image_rows))\n",
    "  gs = gridspec.GridSpec(n_image_rows,n_image_cols,top=1., bottom=0., right=1., left=0., hspace=0., wspace=0.)\n",
    "  for g,count in zip(gs,range(int(dim))):\n",
    "    ax = plt.subplot(g)\n",
    "    ax.imshow(images[count,:].reshape((28,28)))\n",
    "    ax.set_xticks([])\n",
    "    ax.set_yticks([])\n",
    "  plt.savefig(save_name + '_vis.png')"
   ]
  },
  {
   "cell_type": "code",
   "execution_count": null,
   "metadata": {
    "collapsed": false
   },
   "outputs": [],
   "source": [
    "## Model \n",
    "X = tf.placeholder(tf.float32, shape=[None,trX.shape[1]], name='train_input')\n",
    "Y = tf.placeholder(tf.float32, shape=[None,trX.shape[1]], name='train_output')\n",
    "\n",
    "struct = [trX.shape[1],trX.shape[1]//2,100,trX.shape[1]//2,trX.shape[1]]\n",
    "\n",
    "w = list()\n",
    "b = list()\n",
    "H = [X]\n",
    "for i in range(len(struct) - 1):\n",
    "  w.append(tf.Variable(tf.random_normal([struct[i],struct[i+1]], stddev=0.1), name='w%d' % i))\n",
    "  b.append(tf.Variable(tf.zeros([struct[i+1]]), name='b%d' % i))\n",
    "  H.append(tf.sigmoid(tf.add(tf.matmul(H[i],w[i]),b[i])))\n",
    "\n",
    "loss = tf.reduce_mean(tf.squared_difference(H[-1],Y))\n",
    "train_op = tf.train.GradientDescentOptimizer(0.5).minimize(loss)\n",
    "predict_op = H[-1]"
   ]
  },
  {
   "cell_type": "code",
   "execution_count": null,
   "metadata": {
    "collapsed": false
   },
   "outputs": [],
   "source": [
    "num_epochs = 10\n",
    "batch_size = 1000\n",
    "with tf.Session() as sess:\n",
    "  tf.initialize_all_variables().run()\n",
    "  for i in range(num_epochs):\n",
    "    av_l = 0 # average loss\n",
    "    count = 0\n",
    "    for start, end in zip(range(0, len(trX), batch_size), range(batch_size, len(trX)+1, batch_size)):\n",
    "      _, l = sess.run([train_op, loss], feed_dict={X:trX[start:end], Y:trX[start:end]})\n",
    "      av_l+=l\n",
    "      count+=1\n",
    "    \n",
    "    av_l = (1.0*av_l)/count\n",
    "    print (\"Epoch:%d, Train Loss:%f\") %(i,av_l)\n",
    "    \n",
    "  predicted_images = sess.run(predict_op, feed_dict={X:teX[:100]})\n",
    "  vis(predicted_images, \"pred\")\n",
    "  vis(teX[:100], \"input\")\n",
    "  print(\"Done\")"
   ]
  },
  {
   "cell_type": "code",
   "execution_count": null,
   "metadata": {
    "collapsed": true
   },
   "outputs": [],
   "source": []
  }
 ],
 "metadata": {
  "kernelspec": {
   "display_name": "Python 2",
   "language": "python",
   "name": "python2"
  },
  "language_info": {
   "codemirror_mode": {
    "name": "ipython",
    "version": 2
   },
   "file_extension": ".py",
   "mimetype": "text/x-python",
   "name": "python",
   "nbconvert_exporter": "python",
   "pygments_lexer": "ipython2",
   "version": "2.7.6"
  }
 },
 "nbformat": 4,
 "nbformat_minor": 0
}
